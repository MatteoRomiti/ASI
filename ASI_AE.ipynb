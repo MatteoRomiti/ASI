{
 "cells": [
  {
   "cell_type": "markdown",
   "metadata": {},
   "source": [
    "# ASI assessed exercise 2016/2017 (Work in Progress)\n",
    "5th May 2017\n",
    "\n",
    "## Introduction and Instructions\n",
    "\n",
    "In this work you will analyze the MNIST and CIFAR10 datasets available to download from:\n",
    "- http://yann.lecun.com/exdb/mnist/\n",
    "- https://www.cs.toronto.edu/~kriz/cifar.html"
   ]
  },
  {
   "cell_type": "markdown",
   "metadata": {},
   "source": [
    "# Exercises\n",
    "Note (code) and (text) before each task indicate whether the corresponding part involves coding or writing."
   ]
  },
  {
   "cell_type": "markdown",
   "metadata": {},
   "source": [
    "1) (code) Download the MNIST and CIFAR10 datasets and import them. [3]"
   ]
  },
  {
   "cell_type": "code",
   "execution_count": 1,
   "metadata": {
    "collapsed": false
   },
   "outputs": [
    {
     "name": "stderr",
     "output_type": "stream",
     "text": [
      "Using TensorFlow backend.\n"
     ]
    }
   ],
   "source": [
    "import numpy as np\n",
    "import pandas as pd\n",
    "from time import time\n",
    "import matplotlib.pyplot as plt\n",
    "import seaborn as sns\n",
    "from keras.datasets import mnist, cifar10"
   ]
  },
  {
   "cell_type": "code",
   "execution_count": 2,
   "metadata": {
    "collapsed": true
   },
   "outputs": [],
   "source": [
    "(mnist_train_data, mnist_train_label), (mnist_test_data, mnist_test_label) = mnist.load_data()\n",
    "(cifar_train_data, cifar_train_label), (cifar_test_data, cifar_test_label) = cifar10.load_data()"
   ]
  },
  {
   "cell_type": "markdown",
   "metadata": {},
   "source": [
    "## 2) (text) Comment on the distribution of class labels and the dimensionality of the input and how these may affect the analysis. [7]"
   ]
  },
  {
   "cell_type": "markdown",
   "metadata": {},
   "source": [
    "Let's see the labels distribution."
   ]
  },
  {
   "cell_type": "code",
   "execution_count": 3,
   "metadata": {
    "collapsed": false
   },
   "outputs": [
    {
     "data": {
      "text/plain": [
       "{0: 0.098716666666666661,\n",
       " 1: 0.11236666666666667,\n",
       " 2: 0.099299999999999999,\n",
       " 3: 0.10218333333333333,\n",
       " 4: 0.097366666666666671,\n",
       " 5: 0.09035,\n",
       " 6: 0.098633333333333337,\n",
       " 7: 0.10441666666666667,\n",
       " 8: 0.097516666666666668,\n",
       " 9: 0.099150000000000002}"
      ]
     },
     "execution_count": 3,
     "metadata": {},
     "output_type": "execute_result"
    }
   ],
   "source": [
    "mnist_num_samples = len(mnist_train_data)\n",
    "mnist_unique, mnist_counts = np.unique(mnist_train_label, return_counts=True)\n",
    "mnist_label_prob = dict(zip(mnist_unique, mnist_counts/mnist_num_samples))\n",
    "mnist_label_prob"
   ]
  },
  {
   "cell_type": "code",
   "execution_count": 4,
   "metadata": {
    "collapsed": false
   },
   "outputs": [
    {
     "data": {
      "text/plain": [
       "{0: 0.10000000000000001,\n",
       " 1: 0.10000000000000001,\n",
       " 2: 0.10000000000000001,\n",
       " 3: 0.10000000000000001,\n",
       " 4: 0.10000000000000001,\n",
       " 5: 0.10000000000000001,\n",
       " 6: 0.10000000000000001,\n",
       " 7: 0.10000000000000001,\n",
       " 8: 0.10000000000000001,\n",
       " 9: 0.10000000000000001}"
      ]
     },
     "execution_count": 4,
     "metadata": {},
     "output_type": "execute_result"
    }
   ],
   "source": [
    "cifar_num_samples = len(cifar_train_data)\n",
    "cifar_unique, cifar_counts = np.unique(cifar_train_label, return_counts=True)\n",
    "cifar_label_prob = dict(zip(cifar_unique, cifar_counts/cifar_num_samples))\n",
    "cifar_label_prob"
   ]
  },
  {
   "cell_type": "markdown",
   "metadata": {},
   "source": [
    "Defining $K$ as the number of different labels we can have in our dataset and $k = 0,1,2, ..., K-1 $, with MNIST we notice that \n",
    "$$\n",
    "P(t = k) \\approx \\dfrac{1}{K}\n",
    "$$\n",
    "while with CIFAR10 we have:\n",
    "$$\n",
    "P(t = k) = \\dfrac{1}{K}\n",
    "$$\n",
    "which means we can assume the prior  constant."
   ]
  },
  {
   "cell_type": "markdown",
   "metadata": {},
   "source": [
    "# Data pre-processing "
   ]
  },
  {
   "cell_type": "markdown",
   "metadata": {},
   "source": [
    "## Reshaping"
   ]
  },
  {
   "cell_type": "markdown",
   "metadata": {},
   "source": [
    "Let's see the dimensionality of the input."
   ]
  },
  {
   "cell_type": "code",
   "execution_count": 5,
   "metadata": {
    "collapsed": false
   },
   "outputs": [
    {
     "name": "stdout",
     "output_type": "stream",
     "text": [
      "(60000, 28, 28)\n",
      "(50000, 32, 32, 3)\n"
     ]
    }
   ],
   "source": [
    "print(mnist_train_data.shape)\n",
    "print(cifar_train_data.shape)"
   ]
  },
  {
   "cell_type": "markdown",
   "metadata": {},
   "source": [
    "We need to flatten each sample."
   ]
  },
  {
   "cell_type": "code",
   "execution_count": 6,
   "metadata": {
    "collapsed": false
   },
   "outputs": [
    {
     "name": "stdout",
     "output_type": "stream",
     "text": [
      "(60000, 784)\n",
      "(50000, 3072)\n"
     ]
    }
   ],
   "source": [
    "mnist_train_data = mnist_train_data.reshape(mnist_num_samples, -1)\n",
    "cifar_train_data = cifar_train_data.reshape(cifar_num_samples, -1)\n",
    "\n",
    "print(mnist_train_data.shape)\n",
    "print(cifar_train_data.shape)\n"
   ]
  },
  {
   "cell_type": "markdown",
   "metadata": {},
   "source": [
    "The dimensionality of the input for CIFAR10 is very high, 3072. This means classification might be difficult and we probably need more training data to get good results. Here using PCA could be a possible improvement."
   ]
  },
  {
   "cell_type": "code",
   "execution_count": 7,
   "metadata": {
    "collapsed": false
   },
   "outputs": [
    {
     "name": "stdout",
     "output_type": "stream",
     "text": [
      "(10000, 784)\n",
      "(10000, 3072)\n"
     ]
    }
   ],
   "source": [
    "mnist_test_data = mnist_test_data.reshape(len(mnist_test_data), -1)\n",
    "print(mnist_test_data.shape)\n",
    "\n",
    "cifar_test_data = cifar_test_data.reshape(len(cifar_test_data), -1)\n",
    "print(cifar_test_data.shape)"
   ]
  },
  {
   "cell_type": "markdown",
   "metadata": {},
   "source": [
    "## Normalizing"
   ]
  },
  {
   "cell_type": "markdown",
   "metadata": {},
   "source": [
    "Working with small numbers could help avoiding overflows, so we normalize."
   ]
  },
  {
   "cell_type": "code",
   "execution_count": 8,
   "metadata": {
    "collapsed": true
   },
   "outputs": [],
   "source": [
    "mnist_train_data_norm = mnist_train_data/255\n",
    "mnist_test_data_norm = mnist_test_data/255\n",
    "\n",
    "cifar_train_data_norm = cifar_train_data/255\n",
    "cifar_test_data_norm = cifar_test_data/255\n"
   ]
  },
  {
   "cell_type": "markdown",
   "metadata": {},
   "source": [
    "## 3) Classification\n",
    "- a) (code) Implement the Naïve Bayes classifier. [10]\n"
   ]
  },
  {
   "cell_type": "markdown",
   "metadata": {},
   "source": [
    "## Splitting the samples by label"
   ]
  },
  {
   "cell_type": "code",
   "execution_count": 62,
   "metadata": {
    "collapsed": false,
    "scrolled": false
   },
   "outputs": [],
   "source": [
    "# Group the data by labels\n",
    "mnist_K = len(mnist_unique)\n",
    "cifar_K = len(cifar_unique)\n",
    "mnist_train_data_label_norm = [mnist_train_data_norm, mnist_train_label] # [1] for label, [0][6] for 7-th sample\n",
    "mnist_train_splitted_labels_norm = {}\n",
    "\n",
    "mnist_test_data_label_norm = [mnist_test_data_norm, mnist_test_label] # [1] for label, [0][6] for 7-th sample\n",
    "mnist_test_splitted_labels_norm = {}\n",
    "\n",
    "cifar_train_data_label_norm = [cifar_train_data_norm, cifar_train_label]\n",
    "cifar_train_splitted_labels_norm = {}\n",
    "\n",
    "cifar_test_data_label_norm = [cifar_test_data_norm, cifar_test_label]\n",
    "cifar_test_splitted_labels_norm = {}\n",
    "\n",
    "def split_data(data, data_label, K):\n",
    "    splitted_labels = {}\n",
    "    for k in range(K):\n",
    "        splitted_labels[k] = []\n",
    "    for i in range(len(data)):\n",
    "        for k in range(K):\n",
    "            if data_label[1][i] == k:\n",
    "                splitted_labels[k].append(data_label[0][i]) # [7] list of all 7-labeled images\n",
    "    return splitted_labels\n",
    "\n",
    "mnist_train_splitted_labels_norm = split_data(mnist_train_data_norm, mnist_train_data_label_norm, mnist_K)\n",
    "cifar_train_splitted_labels_norm = split_data(cifar_train_data_norm, cifar_train_data_label_norm, mnist_K)\n",
    "\n",
    "mnist_test_splitted_labels_norm = split_data(mnist_test_data_norm, mnist_test_data_label_norm, mnist_K)\n",
    "cifar_test_splitted_labels_norm = split_data(cifar_test_data_norm, cifar_test_data_label_norm, mnist_K)"
   ]
  },
  {
   "cell_type": "markdown",
   "metadata": {},
   "source": [
    "## Defining functions for prediction"
   ]
  },
  {
   "cell_type": "code",
   "execution_count": 78,
   "metadata": {
    "collapsed": false
   },
   "outputs": [],
   "source": [
    "def get_means_vars(samples_):\n",
    "    \"\"\"\n",
    "    given all the samples, it returns means and vars in a dictionary with label as index\n",
    "    means_[k] is an array (784,)\n",
    "    \"\"\"\n",
    "    epsilon = 1e-3\n",
    "    means_, vars_ = {}, {}\n",
    "    for k in range(len(samples_)): \n",
    "        tmp = np.array(samples_[k])\n",
    "        means_[k] = tmp.mean(axis=0)\n",
    "        vars_[k] = tmp.var(axis=0) + epsilon\n",
    "    return means_, vars_\n",
    "    \n",
    "def likelihood(sample, means_k, vars_k):\n",
    "    \"\"\"\n",
    "    likelihood of an image\n",
    "    product of a sequence sampled from a normal\n",
    "    \"\"\"\n",
    "    return np.prod(np.float128(np.exp(-(sample - means_k)/(2*(vars_k))) / (np.sqrt(2*np.pi*vars_k))))\n",
    "\n",
    "def probability_k(sample, k, dataset='mnist'):\n",
    "    \"\"\"\n",
    "    probability that a sample is k-labeled\n",
    "    \"\"\"\n",
    "    global new_sample, prev_den # to avoid computation\n",
    "\n",
    "    if dataset=='cifar':\n",
    "        means_, vars_, K = cifar_means_, cifar_vars_, cifar_K\n",
    "    else: \n",
    "        means_, vars_, K = mnist_means_, mnist_vars_, mnist_K\n",
    "    LH = likelihood(sample, means_[k], vars_[k])\n",
    "    num = LH*.1 \n",
    "    # the denominator is just a normalization constant, we don't need it for the max\n",
    "#     if new_sample == 1:\n",
    "#         den = 0\n",
    "#         for j in range(K):\n",
    "#             den += likelihood(sample, means_[j], vars_[j])*.1\n",
    "#         prev_den = den\n",
    "#     else:\n",
    "#         den = prev_den\n",
    "#     return num/den\n",
    "    return num\n",
    "\n",
    "new_sample, prev_den = 0, 0\n",
    "mnist_means_, mnist_vars_ = get_means_vars(mnist_train_splitted_labels_norm)\n",
    "cifar_means_, cifar_vars_ = get_means_vars(cifar_train_splitted_labels_norm)"
   ]
  },
  {
   "cell_type": "markdown",
   "metadata": {},
   "source": [
    "## Testing\n",
    "Let's test the implementation on a small scale with MNIST."
   ]
  },
  {
   "cell_type": "code",
   "execution_count": 82,
   "metadata": {
    "collapsed": false,
    "scrolled": true
   },
   "outputs": [
    {
     "name": "stdout",
     "output_type": "stream",
     "text": [
      "Sample # 0, True label: 7\n",
      "Label 0 | probability 5.42090412406e-310\n",
      "Label 1 | probability 2.06824571165e-1413\n",
      "Label 2 | probability 3.18569832295e-510\n",
      "Label 3 | probability 6.0668480093e+209\n",
      "Label 4 | probability 3.98154452645e+248\n",
      "Label 5 | probability 5.29597170182e+293\n",
      "Label 6 | probability 2.73588425003e-1339\n",
      "Label 7 | probability 8.11063440359e+569\n",
      "Label 8 | probability 3.1712567363e+189\n",
      "Label 9 | probability 3.16712902222e+523\n",
      "\n",
      "Sample # 1, True label: 2\n",
      "Label 0 | probability 1.6607789148e-493\n",
      "Label 1 | probability 1.03045985824e-2030\n",
      "Label 2 | probability 7.75328551564e+363\n",
      "Label 3 | probability 4.12360500291e-513\n",
      "Label 4 | probability 3.13156518268e-1105\n",
      "Label 5 | probability 2.71144985056e-477\n",
      "Label 6 | probability 5.61558300515e-348\n",
      "Label 7 | probability 8.04282394815e-3964\n",
      "Label 8 | probability 8.9446810335e-903\n",
      "Label 9 | probability 2.69249310039e-2669\n",
      "\n",
      "Sample # 2, True label: 1\n",
      "Label 0 | probability 1.52872241193e+482\n",
      "Label 1 | probability 1.02732589851e+701\n",
      "Label 2 | probability 2.44337137873e+572\n",
      "Label 3 | probability 3.69891453269e+580\n",
      "Label 4 | probability 3.83850579767e+577\n",
      "Label 5 | probability 2.16392977529e+566\n",
      "Label 6 | probability 4.24023584682e+583\n",
      "Label 7 | probability 9.89910116996e+189\n",
      "Label 8 | probability 2.8427462453e+609\n",
      "Label 9 | probability 5.88800930384e+441\n",
      "\n",
      "Sample # 3, True label: 0\n",
      "Label 0 | probability 5.48640784367e+481\n",
      "Label 1 | probability 9.94950936943e-3793\n",
      "Label 2 | probability 4.0568434944e+350\n",
      "Label 3 | probability 3.23135186232e+347\n",
      "Label 4 | probability 2.95379646666e+291\n",
      "Label 5 | probability 2.1766407912e+357\n",
      "Label 6 | probability 2.67101550777e+378\n",
      "Label 7 | probability 2.61639452348e-346\n",
      "Label 8 | probability 1.40141668448e+405\n",
      "Label 9 | probability 7.62913571391e+80\n",
      "\n"
     ]
    }
   ],
   "source": [
    "for s in range(4):\n",
    "    new_sample = 1\n",
    "    sample = 0+s\n",
    "    print(\"Sample # %d, True label: %d\" % (sample, mnist_test_label[sample]))\n",
    "    for k in range(10):\n",
    "#         probability_k(mnist_test_data_norm[sample], k, 'mnist')\n",
    "#         print(\"Label %d | probability %.2f\" % (k, probability_k(mnist_test_data_norm[sample], k)))\n",
    "        print(\"Label %d | probability %s\" % (k, str(probability_k(mnist_test_data_norm[sample], k, 'mnist'))))\n",
    "        new_sample = 0\n",
    "    print()\n",
    "                                             "
   ]
  },
  {
   "cell_type": "markdown",
   "metadata": {},
   "source": [
    "The predicted label for each sample is the one with the highest probability, and it's seems to work.\n",
    "Let's test it now with CIFAR10."
   ]
  },
  {
   "cell_type": "code",
   "execution_count": 83,
   "metadata": {
    "collapsed": false,
    "scrolled": true
   },
   "outputs": [
    {
     "name": "stdout",
     "output_type": "stream",
     "text": [
      "Sample # 0, True label: 3\n",
      "Label 0 | probability 6.21588755663e+2127\n",
      "Label 1 | probability 9.66401780762e+736\n",
      "Label 2 | probability 2.03084278545e+1219\n",
      "Label 3 | probability 9.03941112207e+874\n",
      "Label 4 | probability 4.68157351705e+999\n",
      "Label 5 | probability 8.39786759545e+1028\n",
      "Label 6 | probability 3.84946581637e+588\n",
      "Label 7 | probability 1.18710590054e+1059\n",
      "Label 8 | probability 1.61358103115e+1881\n",
      "Label 9 | probability 1.82915254488e+1051\n",
      "\n",
      "Sample # 1, True label: 8\n",
      "Label 0 | probability 3.54650255046e+36\n",
      "Label 1 | probability 1.72489154124e-755\n",
      "Label 2 | probability 2.79581209936e-904\n",
      "Label 3 | probability 1.24837953443e-916\n",
      "Label 4 | probability 3.64214202368e-1376\n",
      "Label 5 | probability 4.78868450406e-820\n",
      "Label 6 | probability 2.2558717035e-1953\n",
      "Label 7 | probability 9.52471457978e-494\n",
      "Label 8 | probability 1.9806025678e-246\n",
      "Label 9 | probability 6.18424890401e-554\n",
      "\n",
      "Sample # 2, True label: 8\n",
      "Label 0 | probability 5.94437546516e+1011\n",
      "Label 1 | probability 5.83124310448e+61\n",
      "Label 2 | probability 8.78192767089e+188\n",
      "Label 3 | probability 2.01784516739e-36\n",
      "Label 4 | probability 1.72986706557e-95\n",
      "Label 5 | probability 1.13605142727e+125\n",
      "Label 6 | probability 2.6676273627e-693\n",
      "Label 7 | probability 4.78919088927e+459\n",
      "Label 8 | probability 1.98385787664e+877\n",
      "Label 9 | probability 5.13658889261e+271\n",
      "\n",
      "Sample # 3, True label: 0\n",
      "Label 0 | probability 1.04542134661e+60\n",
      "Label 1 | probability 1.08730407644e-949\n",
      "Label 2 | probability 5.37762258817e-949\n",
      "Label 3 | probability 4.71566403023e-953\n",
      "Label 4 | probability 4.02150816535e-1516\n",
      "Label 5 | probability 8.47919714785e-890\n",
      "Label 6 | probability 2.35541165836e-1974\n",
      "Label 7 | probability 7.63912846977e-702\n",
      "Label 8 | probability 1.93599246238e-262\n",
      "Label 9 | probability 5.60209527405e-772\n",
      "\n",
      "Sample # 4, True label: 6\n",
      "Label 0 | probability 1.99657893324e+2113\n",
      "Label 1 | probability 3.03317212212e+734\n",
      "Label 2 | probability 1.70632075514e+1209\n",
      "Label 3 | probability 7.49655416024e+861\n",
      "Label 4 | probability 1.38223980062e+948\n",
      "Label 5 | probability 1.39254505856e+1013\n",
      "Label 6 | probability 2.23837438697e+581\n",
      "Label 7 | probability 7.57701813627e+973\n",
      "Label 8 | probability 1.39444790266e+1878\n",
      "Label 9 | probability 6.87857149855e+1060\n",
      "\n",
      "Sample # 5, True label: 6\n",
      "Label 0 | probability 7.01043932551e+2550\n",
      "Label 1 | probability 6.81479654809e+1218\n",
      "Label 2 | probability 3.43253190436e+1732\n",
      "Label 3 | probability 2.18835646578e+1309\n",
      "Label 4 | probability 2.92061597765e+1695\n",
      "Label 5 | probability 4.58867915893e+1497\n",
      "Label 6 | probability 4.69911747326e+1205\n",
      "Label 7 | probability 3.02997563991e+1612\n",
      "Label 8 | probability 1.01903271336e+2398\n",
      "Label 9 | probability 1.28683865633e+1608\n",
      "\n",
      "Sample # 6, True label: 1\n",
      "Label 0 | probability 6.57877449789e+3538\n",
      "Label 1 | probability 2.8961521477e+1950\n",
      "Label 2 | probability 1.08175118521e+2779\n",
      "Label 3 | probability 4.90670929222e+2135\n",
      "Label 4 | probability 7.5642723359e+2913\n",
      "Label 5 | probability 2.74767048799e+2444\n",
      "Label 6 | probability 5.02690355517e+2257\n",
      "Label 7 | probability 2.97297203996e+2559\n",
      "Label 8 | probability 5.27994811919e+3539\n",
      "Label 9 | probability 6.23012245468e+2386\n",
      "\n",
      "Sample # 7, True label: 6\n",
      "Label 0 | probability 3.76238603103e+2967\n",
      "Label 1 | probability 4.10392879351e+1569\n",
      "Label 2 | probability 2.72939538228e+2280\n",
      "Label 3 | probability 1.6581325432e+1745\n",
      "Label 4 | probability 8.72439486666e+2295\n",
      "Label 5 | probability 3.53881323213e+1932\n",
      "Label 6 | probability 9.13976889527e+1819\n",
      "Label 7 | probability 5.0778323967e+2067\n",
      "Label 8 | probability 2.12571064665e+2927\n",
      "Label 9 | probability 5.12134623804e+1981\n",
      "\n",
      "Sample # 8, True label: 3\n",
      "Label 0 | probability 5.14606730275e-128\n",
      "Label 1 | probability 2.96289225872e-1250\n",
      "Label 2 | probability 1.61577731673e-1326\n",
      "Label 3 | probability 5.44932365589e-1211\n",
      "Label 4 | probability 4.89255777614e-2015\n",
      "Label 5 | probability 9.51827515284e-1190\n",
      "Label 6 | probability 2.80804633487e-2218\n",
      "Label 7 | probability 7.5954005981e-1277\n",
      "Label 8 | probability 7.7144090532e-582\n",
      "Label 9 | probability 2.28011379612e-1081\n",
      "\n",
      "Sample # 9, True label: 1\n",
      "Label 0 | probability 2.02105817865e+559\n",
      "Label 1 | probability 2.16550871913e-364\n",
      "Label 2 | probability 2.95530291362e-288\n",
      "Label 3 | probability 7.29885313938e-369\n",
      "Label 4 | probability 2.98584031994e-763\n",
      "Label 5 | probability 1.2746728575e-399\n",
      "Label 6 | probability 4.66887749407e-1032\n",
      "Label 7 | probability 3.99119138491e-190\n",
      "Label 8 | probability 7.85165384941e+267\n",
      "Label 9 | probability 3.97015621875e-148\n",
      "\n"
     ]
    }
   ],
   "source": [
    "for s in range(10):\n",
    "    new_sample = 1\n",
    "    sample = 0+s\n",
    "    print(\"Sample # %d, True label: %d\" % (sample, cifar_test_label[sample]))\n",
    "    for k in range(10):\n",
    "    #     print(\"Label %d | probability %.2f\" % (k, probability_k(mnist_test_data_norm[sample], k)))\n",
    "        print(\"Label %d | probability %s\" % (k, str(probability_k(cifar_test_data_norm[sample], k, 'cifar'))))\n",
    "        new_sample = 0\n",
    "    print()\n",
    "                                             "
   ]
  },
  {
   "cell_type": "markdown",
   "metadata": {},
   "source": [
    "The predicted label is not correct. It is always one. We have some problems here."
   ]
  },
  {
   "cell_type": "markdown",
   "metadata": {},
   "source": [
    "Let's test on the whole MNIST test set."
   ]
  },
  {
   "cell_type": "code",
   "execution_count": 41,
   "metadata": {
    "collapsed": false
   },
   "outputs": [],
   "source": [
    "def predict(data, labels, dataset='mnist', perc=10):\n",
    "    global new_sample, prev_den \n",
    "    correct = 0\n",
    "    perc = perc/100\n",
    "    total = int(len(data)*perc)\n",
    "    predicted_labels = np.zeros(total)\n",
    "    print(\"Predicting %d images from %s...\" % (total, dataset))\n",
    "    t0 = time()\n",
    "    new_sample, prev_den = 0, 0\n",
    "    for sample in range(total):\n",
    "        new_sample = 1\n",
    "        probabilities_sample = []\n",
    "        for k in range(10):\n",
    "            true_label =  labels[sample]\n",
    "            probabilities_sample.append(probability_k(data[sample], k, dataset))\n",
    "            new_sample = 0\n",
    "        predicted_label = probabilities_sample.index(max(probabilities_sample))\n",
    "        predicted_labels[sample] = int(predicted_label)\n",
    "        if predicted_label == true_label:\n",
    "            correct += 1\n",
    "            \n",
    "    print(\"Time for %d samples: %.2f\" % (total, time()-t0))\n",
    "    print(\"Accuracy: \",(correct/total))\n",
    "    return predicted_labels\n",
    "\n",
    "    "
   ]
  },
  {
   "cell_type": "code",
   "execution_count": 84,
   "metadata": {
    "collapsed": false
   },
   "outputs": [
    {
     "name": "stdout",
     "output_type": "stream",
     "text": [
      "Predicting 10000 images from mnist...\n",
      "Time for 10000 samples: 3.54\n",
      "Accuracy:  0.7149\n"
     ]
    }
   ],
   "source": [
    "mnist_predicted_labels = predict(mnist_test_data_norm, mnist_test_label, dataset='mnist',perc=100)\n"
   ]
  },
  {
   "cell_type": "code",
   "execution_count": 85,
   "metadata": {
    "collapsed": false
   },
   "outputs": [
    {
     "name": "stdout",
     "output_type": "stream",
     "text": [
      "Predicting 10000 images from cifar...\n",
      "Time for 10000 samples: 8.16\n",
      "Accuracy:  0.1001\n"
     ]
    }
   ],
   "source": [
    "cifar_predicted_labels = predict(cifar_test_data_norm, cifar_test_label, 'cifar', 100)"
   ]
  },
  {
   "cell_type": "markdown",
   "metadata": {},
   "source": [
    "- b) (text) Describe a positive and a negative feature of the classifier for these tasks [5]"
   ]
  },
  {
   "cell_type": "markdown",
   "metadata": {},
   "source": [
    "Positive feature: non-parametric model and not heavy in computation.\n",
    "Negative feature: too simple and does not work with datasets with high dimensionality."
   ]
  },
  {
   "cell_type": "markdown",
   "metadata": {},
   "source": [
    "- c) (text) Describe any data pre-processing that you suggest for this data and your classifier [5]\n",
    "- d) (code) Apply your classifier to the two given datasets. Make sure your optimization is clearly commented. Use classification accuracy and test log-likelihood as your figures of merit [15]\n",
    "- e) (code) Display the confusion matrix on the test data [5]"
   ]
  },
  {
   "cell_type": "code",
   "execution_count": 60,
   "metadata": {
    "collapsed": false
   },
   "outputs": [],
   "source": [
    "from sklearn.metrics import confusion_matrix\n",
    "mnist_conf_matrix = confusion_matrix(mnist_test_label[:len(mnist_predicted_labels)], mnist_predicted_labels)"
   ]
  },
  {
   "cell_type": "code",
   "execution_count": 61,
   "metadata": {
    "collapsed": false
   },
   "outputs": [
    {
     "name": "stdout",
     "output_type": "stream",
     "text": [
      "[[ 895    0    9    4    3    6   11    1   51    0]\n",
      " [   0 1000    7   10    0    6   10    0   98    4]\n",
      " [  32    5  737   40    8    2   55    4  147    2]\n",
      " [  17    9   56  634    7   11   14   14  212   36]\n",
      " [  17    1   18    5  425   17   23    6  254  216]\n",
      " [  68    5   16   51   20  247   18    4  437   26]\n",
      " [  19    3   22    1    2   12  861    0   38    0]\n",
      " [   1    7   12   17   17    0    1  677   69  227]\n",
      " [  11   15   21   15   13   22    8    5  823   41]\n",
      " [   4    6    6    9   38    1    0   23   72  850]]\n"
     ]
    },
    {
     "data": {
      "image/png": "[encoded data removed]",
      "text/plain": [
       "<matplotlib.figure.Figure at 0x7fe077cd4438>"
      ]
     },
     "metadata": {},
     "output_type": "display_data"
    }
   ],
   "source": [
    "import itertools\n",
    "def plot_confusion_matrix(cm, classes,\n",
    "                          normalize=False,\n",
    "                          title='Confusion matrix',\n",
    "                          cmap=plt.cm.Blues):\n",
    "    \"\"\"\n",
    "    This function prints and plots the confusion matrix.\n",
    "    Normalization can be applied by setting `normalize=True`.\n",
    "    \"\"\"\n",
    "    plt.imshow(cm, interpolation='nearest', cmap=cmap)\n",
    "    plt.title(title)\n",
    "    plt.colorbar()\n",
    "    tick_marks = np.arange(len(classes))\n",
    "    plt.xticks(tick_marks, classes, rotation=45)\n",
    "    plt.yticks(tick_marks, classes)\n",
    "\n",
    "#     if normalize:\n",
    "#         cm = cm.astype('float') / cm.sum(axis=1)[:, np.newaxis]\n",
    "#         print(\"Normalized confusion matrix\")\n",
    "#     else:\n",
    "#         print('Confusion matrix, without normalization')\n",
    "\n",
    "    print(cm)\n",
    "\n",
    "    thresh = cm.max() / 2.\n",
    "    for i, j in itertools.product(range(cm.shape[0]), range(cm.shape[1])):\n",
    "        plt.text(j, i, cm[i, j],\n",
    "                 horizontalalignment=\"center\",\n",
    "                 color=\"white\" if cm[i, j] > thresh else \"black\")\n",
    "\n",
    "    plt.tight_layout()\n",
    "    plt.ylabel('True label')\n",
    "    plt.xlabel('Predicted label')\n",
    "    \n",
    "    \n",
    "# Compute confusion matrix\n",
    "np.set_printoptions(precision=2)\n",
    "\n",
    "# Plot non-normalized confusion matrix\n",
    "plt.figure()\n",
    "plot_confusion_matrix(mnist_conf_matrix, classes=range(10),\n",
    "                      title='Confusion matrix')\n",
    "plt.show()"
   ]
  },
  {
   "cell_type": "markdown",
   "metadata": {},
   "source": [
    "- f) (text) Discuss the performance, compare them against a classifier that outputs\n",
    "random class labels, and suggest ways in which performance could be improved [5]"
   ]
  },
  {
   "cell_type": "markdown",
   "metadata": {},
   "source": [
    "4) Linear regression\n",
    "- a) (code) Implement Bayesian linear regression (you should already have an\n",
    "implementation from the lab sessions) [10]\n",
    "- b) (code) Treat class labels as continuous and apply regression to the training data. [15]\n",
    "- c) (code) Produce a scatter plot showing the predictions versus the true targets for the\n",
    "test set and compute the mean squared error on the test set [5]\n",
    "- d) (text) Suggest a way to discretize predictions and display the confusion matrix on the\n",
    "test data and report accuracy [5]\n",
    "- e) (text) Discuss regression performance with respect to classification performance [5]\n",
    "- f)\n",
    "(text) Describe one limitation of using regression for this particular task. [5]"
   ]
  },
  {
   "cell_type": "markdown",
   "metadata": {},
   "source": [
    "5) Bonus question\n",
    "- a) (text / code) The state-of-the-art in these image classification problems suggests that\n",
    "convolutional layers in convolutional neural networks yield most of the improvements\n",
    "compared to standard neural networks. The reason is that they are capable of\n",
    "modeling spatial patterns through the hierarchical analysis of patches of images.\n",
    "Propose and implement ways to exploit patch information in the Naïve Bayes\n",
    "classifier or linear regression. A couple of suggestions are: (i) apply Naïve Bayes\n",
    "classification to the output of convolutional layer in the LeNet architecture (ii) construct\n",
    "the Naïve Bayes classifier by calculating patch-specific statistics and extend this by\n",
    "stacking multiple of these."
   ]
  },
  {
   "cell_type": "markdown",
   "metadata": {},
   "source": [
    "Numbers at the end of each section are the number of marks available.\n",
    "Be concise - a complete solution should be around 10 pages (including figures) and no more than 20."
   ]
  }
 ],
 "metadata": {
  "kernelspec": {
   "display_name": "Python 3",
   "language": "python",
   "name": "python3"
  },
  "language_info": {
   "codemirror_mode": {
    "name": "ipython",
    "version": 3
   },
   "file_extension": ".py",
   "mimetype": "text/x-python",
   "name": "python",
   "nbconvert_exporter": "python",
   "pygments_lexer": "ipython3",
   "version": "3.6.0"
  }
 },
 "nbformat": 4,
 "nbformat_minor": 2
}
